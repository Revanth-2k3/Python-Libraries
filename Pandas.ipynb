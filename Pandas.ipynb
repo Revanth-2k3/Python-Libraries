{
 "cells": [
  {
   "cell_type": "markdown",
   "id": "5bdd357e-bee9-4068-9b5a-a81ca5891de0",
   "metadata": {},
   "source": [
    "# Pandas:"
   ]
  },
  {
   "cell_type": "code",
   "execution_count": null,
   "id": "555017bb-9b25-43a5-905a-bab2661a639e",
   "metadata": {},
   "outputs": [],
   "source": [
    "- pandas is a python library.\n",
    "- Pandas is used to analyze data.\n",
    "- Pandas is a data manipulation package in python for tabular data.\n",
    "- i.e., data in the form of rows and columns also known as dataframes.\n",
    "- We can think of a dataframe as an excel sheet."
   ]
  },
  {
   "cell_type": "markdown",
   "id": "de215e36-39e1-4428-ac95-44e76428766a",
   "metadata": {},
   "source": [
    "# what is pandas used for?"
   ]
  },
  {
   "cell_type": "code",
   "execution_count": null,
   "id": "0611984d-df0b-4017-bf67-8fa95db0e305",
   "metadata": {},
   "outputs": [],
   "source": [
    "- Pandas is used throughout the data analysis workflow.\n",
    "- with the help of pandas,we can:\n",
    "  1)Import datasets from datbases,spread sheets,comma-separated values(CSV) files and more.\n",
    "  2)clean datasets,for example,by dealing with missing values.\n",
    "  3)Tidy datasets by reshaping their sstructure into a suitable format for analysis.\n",
    "  4)Aggregate data by calculating summary statistics such as the mean of columns,correlation between them and more.                                                            "
   ]
  },
  {
   "cell_type": "markdown",
   "id": "be9cd331-77a0-4042-acca-b9438f09fde8",
   "metadata": {},
   "source": [
    "# Installation of pandas:"
   ]
  },
  {
   "cell_type": "code",
   "execution_count": null,
   "id": "1a890df6-29ca-4606-91f7-e993cbbf082f",
   "metadata": {},
   "outputs": [],
   "source": [
    "- For installing the pandas is straight forward,just use the pip install commoand in your terminal."
   ]
  },
  {
   "cell_type": "code",
   "execution_count": 4,
   "id": "8d1fe60a-2266-4542-aece-37b40e1556bf",
   "metadata": {},
   "outputs": [
    {
     "name": "stdout",
     "output_type": "stream",
     "text": [
      "Requirement already satisfied: pandas in c:\\users\\revan\\anaconda3\\lib\\site-packages (2.2.2)\n",
      "Requirement already satisfied: numpy>=1.26.0 in c:\\users\\revan\\anaconda3\\lib\\site-packages (from pandas) (1.26.4)\n",
      "Requirement already satisfied: python-dateutil>=2.8.2 in c:\\users\\revan\\anaconda3\\lib\\site-packages (from pandas) (2.9.0.post0)\n",
      "Requirement already satisfied: pytz>=2020.1 in c:\\users\\revan\\anaconda3\\lib\\site-packages (from pandas) (2024.1)\n",
      "Requirement already satisfied: tzdata>=2022.7 in c:\\users\\revan\\anaconda3\\lib\\site-packages (from pandas) (2023.3)\n",
      "Requirement already satisfied: six>=1.5 in c:\\users\\revan\\anaconda3\\lib\\site-packages (from python-dateutil>=2.8.2->pandas) (1.16.0)\n"
     ]
    }
   ],
   "source": [
    "!pip install pandas"
   ]
  },
  {
   "cell_type": "markdown",
   "id": "19b190a1-b9e5-4188-a342-ae2eaca7cec4",
   "metadata": {},
   "source": [
    "# Importing data in pandas:"
   ]
  },
  {
   "cell_type": "code",
   "execution_count": null,
   "id": "923b2b0a-5fa2-4e75-afec-d93d504e6d98",
   "metadata": {},
   "outputs": [],
   "source": [
    "- to begin working with pandas,import the pandas python package as shown below:\n",
    "- when importing pandas,the most common alias for pandas is pd"
   ]
  },
  {
   "cell_type": "code",
   "execution_count": null,
   "id": "91819608-ac6a-4596-ae96-6e32d7981c45",
   "metadata": {},
   "outputs": [],
   "source": [
    "import pandas as pd"
   ]
  },
  {
   "cell_type": "markdown",
   "id": "9003bd6b-405f-43e5-bb3c-f0f2324c4300",
   "metadata": {},
   "source": [
    "# Importing CSV files:"
   ]
  },
  {
   "cell_type": "code",
   "execution_count": null,
   "id": "1fb3bd9a-ed3e-4228-b1c0-db6ca8aece19",
   "metadata": {},
   "outputs": [],
   "source": [
    "- Use read_CSV() with the path to the CSV file to read a comma-separated values file."
   ]
  },
  {
   "cell_type": "markdown",
   "id": "5d2a3833-8432-47ec-a3e7-03a9464c1556",
   "metadata": {},
   "source": [
    "# Importing text files:"
   ]
  },
  {
   "cell_type": "code",
   "execution_count": null,
   "id": "ea6eb056-b1a3-4a2e-a466-7b0d315cceb4",
   "metadata": {},
   "outputs": [],
   "source": [
    "- We need to specify a separator with the sep argument.\n",
    "- The separator argument refers to the symbol used to separate rows in a dataframe.\n",
    "- Comma(Sep=\",\"),whitespace(Sep=\"\\s\"),tab(Sep=\"\\t\"), and colon(Sep=\",\") are the commonly used separators.\n",
    "- Here \\S represents a single white space character."
   ]
  },
  {
   "cell_type": "markdown",
   "id": "47a052c3-2e20-4e72-8a28-5bb246594786",
   "metadata": {},
   "source": [
    "# Importing Excel files(single sheet)"
   ]
  },
  {
   "cell_type": "code",
   "execution_count": null,
   "id": "a7f5d53a-8fde-47ec-ac7c-76d05e09f060",
   "metadata": {},
   "outputs": [],
   "source": [
    "- reading excel files(both XLS and XLSX) is as easy as the read_excel() function using the file path as an input."
   ]
  },
  {
   "cell_type": "markdown",
   "id": "22cc4350-c030-4b65-936a-f04e1cfd32d1",
   "metadata": {},
   "source": [
    "# Importing Excel files(multiple sheets)"
   ]
  },
  {
   "cell_type": "code",
   "execution_count": null,
   "id": "256842af-3642-48b4-aa15-39f5c8470d99",
   "metadata": {},
   "outputs": [],
   "source": [
    "- Reading Excel files with multiple sheets is not that different.\n",
    "- You just need to specify one additional argument,sheet_name,where we can either pass a string for the sheet name or an integer for the sheet position\n",
    "- extracting the second sheet since python uses 0-indexing."
   ]
  },
  {
   "cell_type": "markdown",
   "id": "e92a0700-a1bd-45f3-82d2-970515277b00",
   "metadata": {},
   "source": [
    "# Importing JSON file:"
   ]
  },
  {
   "cell_type": "code",
   "execution_count": null,
   "id": "d230c1ad-792f-48d7-b84b-f012e156d573",
   "metadata": {},
   "outputs": [],
   "source": [
    "- similar to the read_CSV() function,we can use read_json() for JSON file types with the JSON file name as the argument."
   ]
  },
  {
   "cell_type": "markdown",
   "id": "d3bfbb29-d381-4eb6-b514-ea78d2aef4f0",
   "metadata": {},
   "source": [
    "# Viewing and understanding DataFrames using pandas:"
   ]
  },
  {
   "cell_type": "code",
   "execution_count": null,
   "id": "817a6c32-8e19-42cc-b1d0-3857b14ea49e",
   "metadata": {},
   "outputs": [],
   "source": [
    "How to view data using .head() and .tail()\n",
    "#using head()\n",
    "df.head(10)\n",
    "\n",
    "#using tail()\n",
    "df.tail(10)"
   ]
  },
  {
   "cell_type": "code",
   "execution_count": null,
   "id": "54b2c71e-d6ac-4e45-9d3e-336c9be3d87d",
   "metadata": {},
   "outputs": [],
   "source": [
    "- Te .describe(0 method prints the summary statistics of all numeric columns such as count,mean,standard deviation,range and quartiles of numeric columns."
   ]
  },
  {
   "cell_type": "code",
   "execution_count": null,
   "id": "56320dc1-89eb-43c8-b362-d5b78a03b684",
   "metadata": {},
   "outputs": [],
   "source": [
    "df.describe()"
   ]
  },
  {
   "cell_type": "code",
   "execution_count": null,
   "id": "08b27aca-e62a-4c5c-a328-98495cc9f4fc",
   "metadata": {},
   "outputs": [],
   "source": [
    "- The .info() method is a quick way to look at the data types,missing values and data size of a dataframe"
   ]
  },
  {
   "cell_type": "code",
   "execution_count": null,
   "id": "9fccdb5c-dcc2-48ba-a861-35f4b95e1d09",
   "metadata": {},
   "outputs": [],
   "source": [
    "df.info()"
   ]
  },
  {
   "cell_type": "code",
   "execution_count": null,
   "id": "66462925-e3a6-43f3-93e6-5e140c3f22e7",
   "metadata": {},
   "outputs": [],
   "source": [
    "print(df.shape) #Get the number of rows and columns\n",
    "print(df.shape[0]) #Get the number of rows only\n",
    "print(df.shape[1]) #Get the number of columns only"
   ]
  },
  {
   "cell_type": "code",
   "execution_count": null,
   "id": "b217f3d9-6571-4cb7-86cf-8e03e7aed6cf",
   "metadata": {},
   "outputs": [],
   "source": [
    "To get all columns and column names\n",
    "df.columns"
   ]
  },
  {
   "cell_type": "markdown",
   "id": "ad441926-88b0-4e5f-9052-383d8e0d26ce",
   "metadata": {},
   "source": [
    "It can be converted to a list using a list() function\n",
    "list(df.columns)"
   ]
  },
  {
   "cell_type": "code",
   "execution_count": null,
   "id": "d5d534ca-6a34-44f2-a9c7-8d5c8b36b83b",
   "metadata": {},
   "outputs": [],
   "source": [
    "Checking for missing values in pandas\n",
    "df.isnull().head(10)"
   ]
  },
  {
   "cell_type": "code",
   "execution_count": null,
   "id": "554d0232-4be1-48b6-a421-12cefacfaf9c",
   "metadata": {},
   "outputs": [],
   "source": [
    "finding Null values and adding them\n",
    "df.isnull().sum()\n",
    "df.isna().any()"
   ]
  },
  {
   "cell_type": "markdown",
   "id": "59b115ad-446f-4dad-894a-19c5c5f3e852",
   "metadata": {},
   "source": [
    "# Slicing and extracting data in pandas:"
   ]
  },
  {
   "cell_type": "code",
   "execution_count": null,
   "id": "6cc2c102-0498-4215-b504-3b43067d47a5",
   "metadata": {},
   "outputs": [],
   "source": [
    "#Isolating one column using[]\n",
    "df['profit'].head()"
   ]
  },
  {
   "cell_type": "code",
   "execution_count": null,
   "id": "50773610-955e-4a30-b17c-290c79414a46",
   "metadata": {},
   "outputs": [],
   "source": [
    "#Isolating two or more columns using [[]]\n",
    "df[['state','profit']].head()"
   ]
  },
  {
   "cell_type": "code",
   "execution_count": null,
   "id": "b72e7081-8a34-44dc-843f-bdc6b50ce306",
   "metadata": {},
   "outputs": [],
   "source": [
    "#Isolating one row using[]\n",
    "df[df.index==45]"
   ]
  },
  {
   "cell_type": "code",
   "execution_count": null,
   "id": "4220c4fb-714d-42b8-ade8-3977a43f0d08",
   "metadata": {},
   "outputs": [],
   "source": [
    "#Isolating two or more rows using[]"
   ]
  },
  {
   "cell_type": "code",
   "execution_count": null,
   "id": "944881f3-bc5f-41cc-9421-74314376d1d8",
   "metadata": {},
   "outputs": [],
   "source": [
    "Similarly,two or more rows can be returned using the .isin() method instead of a==operator.\n",
    "df[df.index.isin(range(2,10))]"
   ]
  },
  {
   "cell_type": "code",
   "execution_count": null,
   "id": "7d85e04e-1776-4317-944f-5181e9f2bed0",
   "metadata": {},
   "outputs": [],
   "source": [
    "#Isolating two or more columns using [[]]\n",
    "df[['state','profit']].head()"
   ]
  },
  {
   "cell_type": "code",
   "execution_count": null,
   "id": "3079f393-42e5-4abc-9261-d70731989d72",
   "metadata": {},
   "outputs": [],
   "source": [
    "#Isolating one row using[]\n",
    "df[df.index==4]"
   ]
  },
  {
   "cell_type": "code",
   "execution_count": null,
   "id": "cb92d7bb-2afe-4613-8162-7a32c9cabd6a",
   "metadata": {},
   "outputs": [],
   "source": [
    "#Isolating two or more rows using[]\n",
    "#similarly, two or more rows can be returned using the isin() method instead of a== operator.\n",
    "df[df.index.isin(range(2,10))]"
   ]
  },
  {
   "cell_type": "code",
   "execution_count": null,
   "id": "79ff57db-9ebe-4a55-a785-2aae2a2ac535",
   "metadata": {},
   "outputs": [],
   "source": [
    "- Using .loc[] and .iloc[] to fetch rows.\n",
    "- You can fetch specific rows by labls or conditions.\n",
    "- using .loc[] and .iloc[] (\"location\" and \"integer location')\n",
    "- .loc[] uses a label to pint to a row,column or cell, wheareas .ioc[] uses the numeric position."
   ]
  },
  {
   "cell_type": "code",
   "execution_count": null,
   "id": "9dad0ecd-b7bf-420b-b51c-3b82e31d508c",
   "metadata": {},
   "outputs": [],
   "source": [
    "df.loc[5]"
   ]
  },
  {
   "cell_type": "code",
   "execution_count": null,
   "id": "b9172ab0-43ea-41dd-ba08-4e6c2caa65f1",
   "metadata": {},
   "outputs": [],
   "source": [
    "dof.iloc[5]"
   ]
  },
  {
   "cell_type": "code",
   "execution_count": null,
   "id": "c1a065d9-e26b-4622-92a2-fa45d6bde5fa",
   "metadata": {},
   "outputs": [],
   "source": [
    "#you can also fetch multiple rows by providing a range in square brackets..\n",
    "df.iloc[2:10]"
   ]
  },
  {
   "cell_type": "code",
   "execution_count": null,
   "id": "7bac2925-6bd9-4615-85b6-635b27684b8f",
   "metadata": {},
   "outputs": [],
   "source": [
    "#to convert data into array\n",
    "df.to_numpy()"
   ]
  },
  {
   "cell_type": "markdown",
   "id": "e2cf4895-ac98-423a-85b6-1c5adddbe885",
   "metadata": {},
   "source": [
    "# Cleaning data using pandas:"
   ]
  },
  {
   "cell_type": "code",
   "execution_count": null,
   "id": "6f387fa6-d7ef-407c-8958-ec1f4689c3ef",
   "metadata": {},
   "outputs": [],
   "source": [
    "- data cleaning is one of the most common tasks in data science."
   ]
  },
  {
   "cell_type": "code",
   "execution_count": null,
   "id": "508a759c-30a2-4d2a-bf7f-0bd4683895a7",
   "metadata": {},
   "outputs": [],
   "source": [
    "data=pd.read_CSV(r\"titanic.CSV\",usecols=['Age','Fare','Survived'])\n",
    "data.head()"
   ]
  },
  {
   "cell_type": "code",
   "execution_count": null,
   "id": "a5327481-e8de-486d-b10b-b74a1838501a",
   "metadata": {},
   "outputs": [],
   "source": [
    "#finding he null values and sum them together\n",
    " data=isnull().sum()"
   ]
  },
  {
   "cell_type": "markdown",
   "id": "086a5ae4-4665-4cfe-9486-6ec2da84f371",
   "metadata": {},
   "source": [
    "# Dealing with missing data technique:"
   ]
  },
  {
   "cell_type": "markdown",
   "id": "28da3b3b-cd50-4156-8e07-2df6dfc558ca",
   "metadata": {},
   "source": [
    "# 1)Dropping missing values:"
   ]
  },
  {
   "cell_type": "code",
   "execution_count": null,
   "id": "ed78be16-d639-4526-9e81-700f053e9027",
   "metadata": {},
   "outputs": [],
   "source": [
    "- one way to deal with missing data is to drop it.\n",
    "- This is particularly useful in cases where we have plenty of dta and losing a small portion won't impact the down stream analysis.\n",
    "- we can use a .dropna() method."
   ]
  },
  {
   "cell_type": "code",
   "execution_count": null,
   "id": "29ba35ff-947e-4a9e-aaa7-bdf7860d4b40",
   "metadata": {},
   "outputs": [],
   "source": [
    "data1=data.dropna()"
   ]
  },
  {
   "cell_type": "code",
   "execution_count": null,
   "id": "3686bfea-8ed6-4e44-8eeb-fa39216a07c3",
   "metadata": {},
   "outputs": [],
   "source": [
    "- The axis argument lets you specify whether you are dropping rows or columns,with missing values.\n",
    "- The default axis removes the rows containing NaNs.\n",
    "- Use axis=1 to remove the columns with one or more NaN values.\n",
    "- Also, notice how we using the argumeny inplace=True which lets you skip saving the output of .dropna() into a new dataframe."
   ]
  },
  {
   "cell_type": "code",
   "execution_count": null,
   "id": "52af0133-ba6c-4ea6-ab4d-d1ff53fe3ef9",
   "metadata": {},
   "outputs": [],
   "source": [
    "import pandas as pd\n",
    "data=pd.read_CSV(r\"titanic.CSV\")\n",
    "data.head()"
   ]
  },
  {
   "cell_type": "code",
   "execution_count": null,
   "id": "0142972e-6971-4c67-b655-a9d588270cc6",
   "metadata": {},
   "outputs": [],
   "source": [
    "data.dropna(inplace=True,axis=0)\n",
    "print(data.isnull().sum())\n",
    "data.shape()\n",
    "data.dropna(inplace=True,axis=0)\n",
    "print(data.isnull().sum())"
   ]
  },
  {
   "cell_type": "markdown",
   "id": "6b1cf26a-05b7-4f97-ad82-5ef9e335637b",
   "metadata": {},
   "source": [
    "# 2)Replacing missing values:"
   ]
  },
  {
   "cell_type": "code",
   "execution_count": null,
   "id": "d1181a53-b26c-442a-b3d3-541b146a97e1",
   "metadata": {},
   "outputs": [],
   "source": [
    "data=pd.read_CSV(\"titanic.csv\",Usecols=['Age','Fare','Survived'])\n",
    "data.head(12)"
   ]
  },
  {
   "cell_type": "code",
   "execution_count": null,
   "id": "298313ee-4ec6-43f2-9612-b7b08560c229",
   "metadata": {},
   "outputs": [],
   "source": [
    "#replacing the NAN value usinf mean()\n",
    "mean_value=data['Age'].mean()\n",
    "print(mean_value)"
   ]
  },
  {
   "cell_type": "code",
   "execution_count": null,
   "id": "d78e53cc-00e2-4ee9-8b75-153ddb348484",
   "metadata": {},
   "outputs": [],
   "source": [
    "data3=data.fillna(mean_value)"
   ]
  },
  {
   "cell_type": "code",
   "execution_count": null,
   "id": "2715940f-fbd4-4737-9389-fc1211626fa1",
   "metadata": {},
   "outputs": [],
   "source": [
    "data3.head(12)"
   ]
  },
  {
   "cell_type": "code",
   "execution_count": null,
   "id": "a81e1301-b588-4ad8-8b0a-2c673aa50b1b",
   "metadata": {},
   "outputs": [],
   "source": [
    "data=pd.read_CSV(\"titanic.csv\",usecols=['Age','Fare','Survived'])"
   ]
  },
  {
   "cell_type": "code",
   "execution_count": null,
   "id": "675b0eee-1b92-49ba-9d08-57e4a97aa7e2",
   "metadata": {},
   "outputs": [],
   "source": [
    "data.head(30)"
   ]
  },
  {
   "cell_type": "code",
   "execution_count": null,
   "id": "75461c84-e242-40c6-8d81-71b729604393",
   "metadata": {},
   "outputs": [],
   "source": [
    "#replacing the NAN value usinf median()\n",
    "median_value=data['Age'].median()\n",
    "data4=data.fillna(median_value)\n",
    "print(median_value)"
   ]
  },
  {
   "cell_type": "markdown",
   "id": "fd72f737-b71b-42a2-8fe5-8005239b3097",
   "metadata": {},
   "source": [
    "# 3)Duplicate data:"
   ]
  },
  {
   "cell_type": "code",
   "execution_count": null,
   "id": "b696d64b-8ecc-47a7-a8d0-932bd7bb8af0",
   "metadata": {},
   "outputs": [],
   "source": [
    "data=pd.read_csv(r\"tested.csv\",usecols=['Age','Fare','Survived'])\n",
    "data.head(12)"
   ]
  },
  {
   "cell_type": "code",
   "execution_count": null,
   "id": "5a5c948d-8276-433c-ab31-25cde5e4189d",
   "metadata": {},
   "outputs": [],
   "source": [
    "#shape of dataset\n",
    "data.shape"
   ]
  },
  {
   "cell_type": "code",
   "execution_count": null,
   "id": "625c9151-1e78-4a1c-89a9-63a1f8314e5e",
   "metadata": {},
   "outputs": [],
   "source": [
    "data5=data.drop_duplicates()\n",
    "data5.shape"
   ]
  },
  {
   "cell_type": "code",
   "execution_count": null,
   "id": "ddea36e9-6fc2-4014-a477-8bf3ad458531",
   "metadata": {},
   "outputs": [],
   "source": [
    "Remaining columns:\n",
    "data=pd.read_CSV(r\"titanic.csv\",usecols=['Age','Fare','Survived'])\n",
    "data.head()"
   ]
  },
  {
   "cell_type": "code",
   "execution_count": null,
   "id": "4b2fa554-1127-4dd0-946e-7a2d03344937",
   "metadata": {},
   "outputs": [],
   "source": [
    "data.isna().sum()"
   ]
  }
 ],
 "metadata": {
  "kernelspec": {
   "display_name": "Python 3 (ipykernel)",
   "language": "python",
   "name": "python3"
  },
  "language_info": {
   "codemirror_mode": {
    "name": "ipython",
    "version": 3
   },
   "file_extension": ".py",
   "mimetype": "text/x-python",
   "name": "python",
   "nbconvert_exporter": "python",
   "pygments_lexer": "ipython3",
   "version": "3.12.4"
  }
 },
 "nbformat": 4,
 "nbformat_minor": 5
}
