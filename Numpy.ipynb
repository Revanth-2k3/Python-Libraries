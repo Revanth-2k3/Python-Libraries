{
 "cells": [
  {
   "cell_type": "markdown",
   "id": "4131c48c-5eb4-4076-a42f-6178be3f66f8",
   "metadata": {},
   "source": [
    "# Numpy:"
   ]
  },
  {
   "cell_type": "code",
   "execution_count": null,
   "id": "5ab2f917-0375-4bd7-ad39-173cc9e2ee05",
   "metadata": {},
   "outputs": [],
   "source": [
    "- NumPy is a Python library used for working with arrays.\n",
    "- It also has functions for working in domain of linear algebra, fourier transform, and matrices.- NumPy was created in 2005 by Travis Oliphant. It is an open source project and you can use it freely.\n",
    "- NumPy stands for Numerical Python.\n",
    "- NumPy (Numerical Python) is an open source Python library that’s widely used in science and engineering.\n",
    " The NumPy library contains multidimensional array data structures, such as the homogeneous, N-dimensional ndarray, and a large library of functions that operate efficiently on these data structures,python."
   ]
  },
  {
   "cell_type": "markdown",
   "id": "ccd77ec5-b3e8-42d6-89ce-d17aa0a00034",
   "metadata": {},
   "source": [
    "# Installation of Numpy:"
   ]
  },
  {
   "cell_type": "code",
   "execution_count": 4,
   "id": "e87f0b22-3c94-4f28-ae7a-35147b48e7e4",
   "metadata": {},
   "outputs": [
    {
     "name": "stdout",
     "output_type": "stream",
     "text": [
      "Requirement already satisfied: Numpy in c:\\users\\revan\\anaconda3\\lib\\site-packages (1.26.4)\n"
     ]
    }
   ],
   "source": [
    "!pip install Numpy"
   ]
  },
  {
   "cell_type": "markdown",
   "id": "8d29b3c6-8b33-4ce3-8669-dcc483133c38",
   "metadata": {},
   "source": [
    "# How to import NumPy:"
   ]
  },
  {
   "cell_type": "code",
   "execution_count": null,
   "id": "99a22295-b8a6-4541-b0e0-a2bea9a417ca",
   "metadata": {},
   "outputs": [],
   "source": [
    "- Once NumPy is installed, import it in your applications by adding the import keyword:"
   ]
  },
  {
   "cell_type": "code",
   "execution_count": 2,
   "id": "354db294-15c4-4648-827d-c6804a509a29",
   "metadata": {},
   "outputs": [],
   "source": [
    "#importing numpy\n",
    "import numpy as np"
   ]
  },
  {
   "cell_type": "code",
   "execution_count": 10,
   "id": "fddbd557-91ff-4dba-ab3b-418f246f721a",
   "metadata": {},
   "outputs": [
    {
     "name": "stdout",
     "output_type": "stream",
     "text": [
      "[1 2 3 4 5]\n"
     ]
    }
   ],
   "source": [
    "import numpy as np\n",
    "\n",
    "arr = np.array([1, 2, 3, 4, 5])\n",
    "\n",
    "print(arr)"
   ]
  },
  {
   "cell_type": "markdown",
   "id": "7bdc96e7-2852-465c-9b98-023040f67a57",
   "metadata": {},
   "source": [
    "# Initial Placeholders:"
   ]
  },
  {
   "cell_type": "code",
   "execution_count": 13,
   "id": "c809c706-cdd9-4bb5-8db8-b968d9379f31",
   "metadata": {},
   "outputs": [
    {
     "data": {
      "text/plain": [
       "array([[0., 0.],\n",
       "       [0., 0.],\n",
       "       [0., 0.],\n",
       "       [0., 0.]])"
      ]
     },
     "execution_count": 13,
     "metadata": {},
     "output_type": "execute_result"
    }
   ],
   "source": [
    "# Creatr an array of zeros\n",
    "np.zeros((4,2))"
   ]
  },
  {
   "cell_type": "code",
   "execution_count": 15,
   "id": "13f143dc-b22d-4676-a9ba-c035137c26f9",
   "metadata": {},
   "outputs": [
    {
     "data": {
      "text/plain": [
       "array([[1., 1., 1.],\n",
       "       [1., 1., 1.]])"
      ]
     },
     "execution_count": 15,
     "metadata": {},
     "output_type": "execute_result"
    }
   ],
   "source": [
    "#create an arrray of ones\n",
    "np.ones((2,3))"
   ]
  },
  {
   "cell_type": "code",
   "execution_count": 17,
   "id": "ed6ad156-d96c-484a-8652-f9f87e2ff624",
   "metadata": {},
   "outputs": [
    {
     "name": "stdout",
     "output_type": "stream",
     "text": [
      "[[[7 7]\n",
      "  [7 7]]\n",
      "\n",
      " [[7 7]\n",
      "  [7 7]]]\n",
      "No of dimension: 3\n"
     ]
    }
   ],
   "source": [
    "#create a 3D array\n",
    "e=np.full((2,2,2),7)\n",
    "print(e)\n",
    "print(\"No of dimension:\",e.ndim)"
   ]
  },
  {
   "cell_type": "code",
   "execution_count": 19,
   "id": "dc665e74-a246-48ca-a4b6-9840f1d379e4",
   "metadata": {},
   "outputs": [
    {
     "name": "stdout",
     "output_type": "stream",
     "text": [
      "[[1. 0. 0. 0.]\n",
      " [0. 1. 0. 0.]\n",
      " [0. 0. 1. 0.]\n",
      " [0. 0. 0. 1.]]\n"
     ]
    }
   ],
   "source": [
    "# create a 2*2 identity matrix\n",
    "f=np.eye(4)\n",
    "print(f)"
   ]
  },
  {
   "cell_type": "code",
   "execution_count": 23,
   "id": "4d39259e-20c6-4978-9d06-1da90e6e5a7d",
   "metadata": {},
   "outputs": [
    {
     "name": "stdout",
     "output_type": "stream",
     "text": [
      "(3, 4)\n"
     ]
    }
   ],
   "source": [
    "# to find no of elements in array \n",
    "arr=np.array([[1,2,3,4],[5,6,7,8],[5,7,7,8]])\n",
    "print(arr.shape)"
   ]
  },
  {
   "cell_type": "markdown",
   "id": "7ca179f5-d5d9-4adb-a707-346f134985cf",
   "metadata": {},
   "source": [
    "# access Array elements:"
   ]
  },
  {
   "cell_type": "code",
   "execution_count": null,
   "id": "07f3b351-358e-4a64-8044-f7358dd28dfa",
   "metadata": {},
   "outputs": [],
   "source": [
    "- We can access an array element by referring to its index number\n",
    "- The indexes in Numpy arrays start with 0 i.e, the first element has index 0."
   ]
  },
  {
   "cell_type": "code",
   "execution_count": 26,
   "id": "526e1a7e-9097-4245-8b4b-e0718d1bc4dd",
   "metadata": {},
   "outputs": [
    {
     "name": "stdout",
     "output_type": "stream",
     "text": [
      "3\n"
     ]
    }
   ],
   "source": [
    "arr=np.array([1,2,3,4])\n",
    "print(arr[2])"
   ]
  },
  {
   "cell_type": "code",
   "execution_count": 28,
   "id": "85307291-4e84-4ee0-8dff-890678bc0fbb",
   "metadata": {},
   "outputs": [
    {
     "name": "stdout",
     "output_type": "stream",
     "text": [
      "6\n"
     ]
    }
   ],
   "source": [
    "import numpy as np\n",
    "#Adding two Index position\n",
    "arr=np.array([1,2,3,4])\n",
    "print(arr[2]+arr[3]-arr[0])"
   ]
  },
  {
   "cell_type": "code",
   "execution_count": 30,
   "id": "c554d50b-a7c2-45a3-b282-836c9c2d7ab2",
   "metadata": {},
   "outputs": [
    {
     "name": "stdout",
     "output_type": "stream",
     "text": [
      "2nd element on 1st row: 9\n"
     ]
    }
   ],
   "source": [
    "# Access 2-D Arrays \n",
    "# access the element on the first row,second column:\n",
    "arr=np.array([[1,2,3,4,5],[6,7,8,9,10],[6,7,5,9,10],[6,7,8,9,1]])\n",
    "print('2nd element on 1st row:',arr[1,3])"
   ]
  },
  {
   "cell_type": "code",
   "execution_count": 32,
   "id": "9abde0ca-a0c4-4b77-bf69-a6f2ed9a17ea",
   "metadata": {},
   "outputs": [
    {
     "name": "stdout",
     "output_type": "stream",
     "text": [
      "10\n"
     ]
    }
   ],
   "source": [
    "#Access 3-D Arrays\n",
    "arr=np.array([[[1,2,3],[4,5,6]],[[1,22,3],[24,5,6]],[[1,32,32],[4,2,6]],[[7,8,9],[10,11,12]]])\n",
    "#Acess by index\n",
    "print(arr[3,1,0])"
   ]
  },
  {
   "cell_type": "markdown",
   "id": "26ea3fd2-a904-474a-8780-4420e056e34f",
   "metadata": {},
   "source": [
    "# Data Types in Numpy:"
   ]
  },
  {
   "cell_type": "code",
   "execution_count": null,
   "id": "6e60e4a4-7f23-43f5-b08f-4e5a5036004a",
   "metadata": {},
   "outputs": [],
   "source": [
    "- Numpy has some extra data types and refer to data types with one character like i for integers, u for unsigned integers etc.\n",
    "- Below is a list of all datatypes in Numpy and the characters used to represent them.\n",
    "i-integer\n",
    "b-boolean\n",
    "u-unsigned integer\n",
    "f-float\n",
    "c-complex float\n",
    "M-date time\n",
    "o-object\n",
    "s-string"
   ]
  },
  {
   "cell_type": "code",
   "execution_count": 41,
   "id": "a8564b43-dc68-47f9-87fd-293d468b1458",
   "metadata": {},
   "outputs": [
    {
     "name": "stdout",
     "output_type": "stream",
     "text": [
      "[b'1' b'2' b'3' b'4']\n",
      "|S1\n"
     ]
    }
   ],
   "source": [
    "# String\n",
    "import numpy as np\n",
    "\n",
    "arr = np.array([1, 2, 3, 4], dtype='S')\n",
    "\n",
    "print(arr)\n",
    "print(arr.dtype)"
   ]
  },
  {
   "cell_type": "code",
   "execution_count": 43,
   "id": "5009390f-cfd9-4b9f-b5ba-2aaa27923a0f",
   "metadata": {},
   "outputs": [
    {
     "name": "stdout",
     "output_type": "stream",
     "text": [
      "[1 2 3 4]\n",
      "int32\n"
     ]
    }
   ],
   "source": [
    "# Integer\n",
    "import numpy as np\n",
    "\n",
    "arr = np.array([1, 2, 3, 4], dtype='i4')\n",
    "\n",
    "print(arr)\n",
    "print(arr.dtype)"
   ]
  },
  {
   "cell_type": "code",
   "execution_count": 45,
   "id": "61f1ac2f-60c8-4cbb-9965-f43861045b8e",
   "metadata": {},
   "outputs": [
    {
     "name": "stdout",
     "output_type": "stream",
     "text": [
      "[1 2 3]\n",
      "int32\n"
     ]
    }
   ],
   "source": [
    "arr=np.array([1.1,2.1,3.1])\n",
    "newarr=arr.astype('i')\n",
    "print(newarr)\n",
    "print(newarr.dtype)"
   ]
  },
  {
   "cell_type": "markdown",
   "id": "762d0f9e-09ea-400d-b89c-b52a27840729",
   "metadata": {},
   "source": [
    "# Reshaping arrays:"
   ]
  },
  {
   "cell_type": "code",
   "execution_count": null,
   "id": "4ea0453f-8363-461b-a04d-53fd16adda08",
   "metadata": {},
   "outputs": [],
   "source": [
    "- Reshaping means changing the shape of an array.\n",
    "- The shape of an array is the number of elements in each dimension.\n",
    "- By reshaping we can add or remove dimensions or change number of elements in each dimension.."
   ]
  },
  {
   "cell_type": "code",
   "execution_count": 48,
   "id": "e426e053-6c2f-4d68-b8f4-c8bb0c7fa8af",
   "metadata": {},
   "outputs": [
    {
     "name": "stdout",
     "output_type": "stream",
     "text": [
      "13\n",
      "+++++++++++++\n",
      "[[ 1  2  3  4  5  6  7  8  9 10 11 12 13]]\n"
     ]
    }
   ],
   "source": [
    "#convert the following 1-D array with 12 elements into 2-d array.\n",
    "arr=np.array([1,2,3,4,5,6,7,8,9,10,11,12,13])\n",
    "print(arr.size)\n",
    "print(\"+++++++++++++\")\n",
    "newarr=arr.reshape(1,13)\n",
    "print(newarr)"
   ]
  },
  {
   "cell_type": "markdown",
   "id": "e921086d-d0f7-47a4-91e3-3916dffc99b6",
   "metadata": {},
   "source": [
    "# Sorting Arrays:"
   ]
  },
  {
   "cell_type": "code",
   "execution_count": null,
   "id": "1b449d6b-ff71-41e2-8d01-3911a139682d",
   "metadata": {},
   "outputs": [],
   "source": [
    "- sorting means putting elements in an ordered sequence.\n",
    "- the Numpy ndarray object has a function called sort(), that will sort a specified array."
   ]
  },
  {
   "cell_type": "code",
   "execution_count": 51,
   "id": "abd81861-9fc5-430e-8f45-9b2f2bd647fe",
   "metadata": {},
   "outputs": [
    {
     "name": "stdout",
     "output_type": "stream",
     "text": [
      "[0 1 2 3]\n"
     ]
    }
   ],
   "source": [
    "arr=np.array([3,2,0,1])\n",
    "print(np.sort(arr))"
   ]
  },
  {
   "cell_type": "markdown",
   "id": "7737bb65-9e7b-4532-8bd1-956e13c638aa",
   "metadata": {},
   "source": [
    "# Slicing Arrays:"
   ]
  },
  {
   "cell_type": "code",
   "execution_count": null,
   "id": "f3c99e11-0d02-454d-856a-8753a68942c3",
   "metadata": {},
   "outputs": [],
   "source": [
    "- slicing in python mmeans taking elements form one given index to another given index.\n",
    "- We pass slice instead of index like this:[start:end].\n",
    "- We can also define the step,like this:[start:end:step]\n",
    "- If we don't pass start its considered 0.\n",
    "- If we don't pass end its considered 1"
   ]
  },
  {
   "cell_type": "code",
   "execution_count": 54,
   "id": "0ad77e97-751f-4480-b105-e670eb3411df",
   "metadata": {},
   "outputs": [
    {
     "name": "stdout",
     "output_type": "stream",
     "text": [
      "[2 3 4 5]\n"
     ]
    }
   ],
   "source": [
    "arr=np.array([1,2,3,4,5,6,7])\n",
    "print(arr[1:5])"
   ]
  },
  {
   "cell_type": "code",
   "execution_count": 60,
   "id": "fb1fc4fd-7eba-4b86-8bdf-126159f2fbc0",
   "metadata": {},
   "outputs": [
    {
     "name": "stdout",
     "output_type": "stream",
     "text": [
      "[5 6]\n"
     ]
    }
   ],
   "source": [
    "arr=np.array([1,2,3,4,5,6,7])\n",
    "print(arr[-3:-1])"
   ]
  },
  {
   "cell_type": "code",
   "execution_count": null,
   "id": "29451829-ebce-4900-910d-f73d6201e0b4",
   "metadata": {},
   "outputs": [],
   "source": []
  }
 ],
 "metadata": {
  "kernelspec": {
   "display_name": "Python 3 (ipykernel)",
   "language": "python",
   "name": "python3"
  },
  "language_info": {
   "codemirror_mode": {
    "name": "ipython",
    "version": 3
   },
   "file_extension": ".py",
   "mimetype": "text/x-python",
   "name": "python",
   "nbconvert_exporter": "python",
   "pygments_lexer": "ipython3",
   "version": "3.12.4"
  }
 },
 "nbformat": 4,
 "nbformat_minor": 5
}
